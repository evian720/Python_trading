{
 "cells": [
  {
   "cell_type": "code",
   "execution_count": 1,
   "metadata": {},
   "outputs": [],
   "source": [
    "import talib as t\n",
    "from talib import MA_Type\n",
    "import numpy as np\n",
    "import pandas as pd\n",
    "import matplotlib.pyplot as plt"
   ]
  },
  {
   "cell_type": "code",
   "execution_count": 2,
   "metadata": {},
   "outputs": [
    {
     "data": {
      "text/html": [
       "<div>\n",
       "<style scoped>\n",
       "    .dataframe tbody tr th:only-of-type {\n",
       "        vertical-align: middle;\n",
       "    }\n",
       "\n",
       "    .dataframe tbody tr th {\n",
       "        vertical-align: top;\n",
       "    }\n",
       "\n",
       "    .dataframe thead th {\n",
       "        text-align: right;\n",
       "    }\n",
       "</style>\n",
       "<table border=\"1\" class=\"dataframe\">\n",
       "  <thead>\n",
       "    <tr style=\"text-align: right;\">\n",
       "      <th></th>\n",
       "      <th>Open</th>\n",
       "      <th>High</th>\n",
       "      <th>Low</th>\n",
       "      <th>Close</th>\n",
       "      <th>Volume</th>\n",
       "      <th>Open Interest</th>\n",
       "    </tr>\n",
       "    <tr>\n",
       "      <th>Date</th>\n",
       "      <th></th>\n",
       "      <th></th>\n",
       "      <th></th>\n",
       "      <th></th>\n",
       "      <th></th>\n",
       "      <th></th>\n",
       "    </tr>\n",
       "  </thead>\n",
       "  <tbody>\n",
       "    <tr>\n",
       "      <th>2013-12-04</th>\n",
       "      <td>30368.0</td>\n",
       "      <td>30368.0</td>\n",
       "      <td>30368.0</td>\n",
       "      <td>30368.0</td>\n",
       "      <td>307.0</td>\n",
       "      <td>257.0</td>\n",
       "    </tr>\n",
       "    <tr>\n",
       "      <th>2013-12-05</th>\n",
       "      <td>30652.0</td>\n",
       "      <td>30957.0</td>\n",
       "      <td>30074.0</td>\n",
       "      <td>30950.0</td>\n",
       "      <td>260.0</td>\n",
       "      <td>122.0</td>\n",
       "    </tr>\n",
       "    <tr>\n",
       "      <th>2013-12-06</th>\n",
       "      <td>29151.0</td>\n",
       "      <td>29350.0</td>\n",
       "      <td>28720.0</td>\n",
       "      <td>29205.0</td>\n",
       "      <td>22202.0</td>\n",
       "      <td>8851.0</td>\n",
       "    </tr>\n",
       "    <tr>\n",
       "      <th>2013-12-07</th>\n",
       "      <td>29205.0</td>\n",
       "      <td>29205.0</td>\n",
       "      <td>29205.0</td>\n",
       "      <td>29205.0</td>\n",
       "      <td>22202.0</td>\n",
       "      <td>8851.0</td>\n",
       "    </tr>\n",
       "    <tr>\n",
       "      <th>2013-12-09</th>\n",
       "      <td>28921.0</td>\n",
       "      <td>29100.0</td>\n",
       "      <td>28842.0</td>\n",
       "      <td>28954.0</td>\n",
       "      <td>13196.0</td>\n",
       "      <td>9137.0</td>\n",
       "    </tr>\n",
       "  </tbody>\n",
       "</table>\n",
       "</div>"
      ],
      "text/plain": [
       "               Open     High      Low    Close   Volume  Open Interest\n",
       "Date                                                                  \n",
       "2013-12-04  30368.0  30368.0  30368.0  30368.0    307.0          257.0\n",
       "2013-12-05  30652.0  30957.0  30074.0  30950.0    260.0          122.0\n",
       "2013-12-06  29151.0  29350.0  28720.0  29205.0  22202.0         8851.0\n",
       "2013-12-07  29205.0  29205.0  29205.0  29205.0  22202.0         8851.0\n",
       "2013-12-09  28921.0  29100.0  28842.0  28954.0  13196.0         9137.0"
      ]
     },
     "execution_count": 2,
     "metadata": {},
     "output_type": "execute_result"
    }
   ],
   "source": [
    "df = pd.read_csv('Gold_data.csv',index_col=0)\n",
    "df.index= pd.to_datetime(df.index,format=\"%Y-%m-%d\")\n",
    "df.head()"
   ]
  },
  {
   "cell_type": "code",
   "execution_count": 10,
   "metadata": {},
   "outputs": [
    {
     "data": {
      "text/html": [
       "<div>\n",
       "<style scoped>\n",
       "    .dataframe tbody tr th:only-of-type {\n",
       "        vertical-align: middle;\n",
       "    }\n",
       "\n",
       "    .dataframe tbody tr th {\n",
       "        vertical-align: top;\n",
       "    }\n",
       "\n",
       "    .dataframe thead th {\n",
       "        text-align: right;\n",
       "    }\n",
       "</style>\n",
       "<table border=\"1\" class=\"dataframe\">\n",
       "  <thead>\n",
       "    <tr style=\"text-align: right;\">\n",
       "      <th></th>\n",
       "      <th>Open</th>\n",
       "      <th>High</th>\n",
       "      <th>Low</th>\n",
       "      <th>Close</th>\n",
       "      <th>Volume</th>\n",
       "      <th>Open Interest</th>\n",
       "      <th>Ret</th>\n",
       "      <th>R_Std</th>\n",
       "      <th>upper</th>\n",
       "      <th>middle</th>\n",
       "      <th>lower</th>\n",
       "      <th>Signal</th>\n",
       "      <th>Str_ret</th>\n",
       "    </tr>\n",
       "    <tr>\n",
       "      <th>Date</th>\n",
       "      <th></th>\n",
       "      <th></th>\n",
       "      <th></th>\n",
       "      <th></th>\n",
       "      <th></th>\n",
       "      <th></th>\n",
       "      <th></th>\n",
       "      <th></th>\n",
       "      <th></th>\n",
       "      <th></th>\n",
       "      <th></th>\n",
       "      <th></th>\n",
       "      <th></th>\n",
       "    </tr>\n",
       "  </thead>\n",
       "  <tbody>\n",
       "    <tr>\n",
       "      <th>2020-03-24</th>\n",
       "      <td>42184.0</td>\n",
       "      <td>42184.0</td>\n",
       "      <td>39929.0</td>\n",
       "      <td>41379.0</td>\n",
       "      <td>12735.0</td>\n",
       "      <td>4282.0</td>\n",
       "      <td>0.005247</td>\n",
       "      <td>0.013195</td>\n",
       "      <td>41470.514642</td>\n",
       "      <td>40118.999699</td>\n",
       "      <td>38767.484757</td>\n",
       "      <td>0</td>\n",
       "      <td>0.0</td>\n",
       "    </tr>\n",
       "    <tr>\n",
       "      <th>2020-03-25</th>\n",
       "      <td>41379.0</td>\n",
       "      <td>42785.0</td>\n",
       "      <td>40811.0</td>\n",
       "      <td>42217.0</td>\n",
       "      <td>7591.0</td>\n",
       "      <td>3214.0</td>\n",
       "      <td>0.020252</td>\n",
       "      <td>0.013415</td>\n",
       "      <td>42141.534464</td>\n",
       "      <td>40485.156923</td>\n",
       "      <td>38828.779381</td>\n",
       "      <td>0</td>\n",
       "      <td>0.0</td>\n",
       "    </tr>\n",
       "    <tr>\n",
       "      <th>2020-03-26</th>\n",
       "      <td>42001.0</td>\n",
       "      <td>44535.0</td>\n",
       "      <td>41430.0</td>\n",
       "      <td>43542.0</td>\n",
       "      <td>7069.0</td>\n",
       "      <td>1864.0</td>\n",
       "      <td>0.031385</td>\n",
       "      <td>0.013962</td>\n",
       "      <td>43251.284883</td>\n",
       "      <td>41088.403323</td>\n",
       "      <td>38925.521764</td>\n",
       "      <td>0</td>\n",
       "      <td>0.0</td>\n",
       "    </tr>\n",
       "    <tr>\n",
       "      <th>2020-03-27</th>\n",
       "      <td>42800.0</td>\n",
       "      <td>43760.0</td>\n",
       "      <td>42800.0</td>\n",
       "      <td>43571.0</td>\n",
       "      <td>4801.0</td>\n",
       "      <td>359.0</td>\n",
       "      <td>0.000666</td>\n",
       "      <td>0.013955</td>\n",
       "      <td>43838.074299</td>\n",
       "      <td>41783.182146</td>\n",
       "      <td>39728.289993</td>\n",
       "      <td>0</td>\n",
       "      <td>0.0</td>\n",
       "    </tr>\n",
       "    <tr>\n",
       "      <th>2020-03-30</th>\n",
       "      <td>43450.0</td>\n",
       "      <td>44190.0</td>\n",
       "      <td>43212.0</td>\n",
       "      <td>43842.0</td>\n",
       "      <td>402.0</td>\n",
       "      <td>106.0</td>\n",
       "      <td>0.006220</td>\n",
       "      <td>0.013733</td>\n",
       "      <td>44368.853905</td>\n",
       "      <td>42465.345817</td>\n",
       "      <td>40561.837729</td>\n",
       "      <td>0</td>\n",
       "      <td>0.0</td>\n",
       "    </tr>\n",
       "  </tbody>\n",
       "</table>\n",
       "</div>"
      ],
      "text/plain": [
       "               Open     High      Low    Close   Volume  Open Interest  \\\n",
       "Date                                                                     \n",
       "2020-03-24  42184.0  42184.0  39929.0  41379.0  12735.0         4282.0   \n",
       "2020-03-25  41379.0  42785.0  40811.0  42217.0   7591.0         3214.0   \n",
       "2020-03-26  42001.0  44535.0  41430.0  43542.0   7069.0         1864.0   \n",
       "2020-03-27  42800.0  43760.0  42800.0  43571.0   4801.0          359.0   \n",
       "2020-03-30  43450.0  44190.0  43212.0  43842.0    402.0          106.0   \n",
       "\n",
       "                 Ret     R_Std         upper        middle         lower  \\\n",
       "Date                                                                       \n",
       "2020-03-24  0.005247  0.013195  41470.514642  40118.999699  38767.484757   \n",
       "2020-03-25  0.020252  0.013415  42141.534464  40485.156923  38828.779381   \n",
       "2020-03-26  0.031385  0.013962  43251.284883  41088.403323  38925.521764   \n",
       "2020-03-27  0.000666  0.013955  43838.074299  41783.182146  39728.289993   \n",
       "2020-03-30  0.006220  0.013733  44368.853905  42465.345817  40561.837729   \n",
       "\n",
       "            Signal  Str_ret  \n",
       "Date                         \n",
       "2020-03-24       0      0.0  \n",
       "2020-03-25       0      0.0  \n",
       "2020-03-26       0      0.0  \n",
       "2020-03-27       0      0.0  \n",
       "2020-03-30       0      0.0  "
      ]
     },
     "execution_count": 10,
     "metadata": {},
     "output_type": "execute_result"
    }
   ],
   "source": [
    "df.tail()"
   ]
  },
  {
   "cell_type": "code",
   "execution_count": 3,
   "metadata": {},
   "outputs": [],
   "source": [
    "n=60"
   ]
  },
  {
   "cell_type": "code",
   "execution_count": 4,
   "metadata": {},
   "outputs": [],
   "source": [
    "df['Ret']= df['Close'].pct_change()\n",
    "df['R_Std'] = df['Ret'].rolling(window=n).std()"
   ]
  },
  {
   "cell_type": "code",
   "execution_count": 5,
   "metadata": {},
   "outputs": [],
   "source": [
    "df['upper'],df['middle'],df['lower'] = t.BBANDS(np.array(df['Close']), matype=MA_Type.T3)"
   ]
  },
  {
   "cell_type": "code",
   "execution_count": 6,
   "metadata": {},
   "outputs": [],
   "source": [
    "df['Signal']=0\n",
    "df.loc[(df['upper'].shift(2)>df['Close'].shift(2))&(df['upper'].shift(1)<df['Close'].shift(1)) \\\n",
    "  & (df['R_Std'].shift(1)>df['Ret'].shift(1)),'Signal']=1\n",
    "df.loc[(df['lower'].shift(2)<df['Close'].shift(2))&(df['lower'].shift(1)>df['Close'].shift(1)) \\\n",
    "  & (-df['R_Std'].shift(1)<df['Ret'].shift(1)),'Signal']=-1"
   ]
  },
  {
   "cell_type": "code",
   "execution_count": 7,
   "metadata": {},
   "outputs": [],
   "source": [
    "df['Str_ret']=df['Signal']*df['Ret']"
   ]
  },
  {
   "cell_type": "code",
   "execution_count": 8,
   "metadata": {},
   "outputs": [],
   "source": [
    "trades = np.count_nonzero(df['Signal'])"
   ]
  },
  {
   "cell_type": "code",
   "execution_count": 9,
   "metadata": {},
   "outputs": [
    {
     "data": {
      "image/png": "[encoded data removed]",
      "text/plain": [
       "<Figure size 432x288 with 1 Axes>"
      ]
     },
     "metadata": {
      "needs_background": "light"
     },
     "output_type": "display_data"
    }
   ],
   "source": [
    "plt.plot((df['Str_ret']+1).cumprod())\n",
    "plt.figtext(0.14,0.9,s='\\n\\nTrades:%i'%trades)\n",
    "plt.xlabel('Date')\n",
    "plt.ylabel('Returns')\n",
    "plt.show()"
   ]
  },
  {
   "cell_type": "code",
   "execution_count": null,
   "metadata": {},
   "outputs": [],
   "source": []
  }
 ],
 "metadata": {
  "kernelspec": {
   "display_name": "Python 3",
   "language": "python",
   "name": "python3"
  },
  "language_info": {
   "codemirror_mode": {
    "name": "ipython",
    "version": 3
   },
   "file_extension": ".py",
   "mimetype": "text/x-python",
   "name": "python",
   "nbconvert_exporter": "python",
   "pygments_lexer": "ipython3",
   "version": "3.7.6"
  }
 },
 "nbformat": 4,
 "nbformat_minor": 4
}
