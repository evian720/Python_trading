{
 "cells": [
  {
   "cell_type": "code",
   "execution_count": 1,
   "metadata": {},
   "outputs": [],
   "source": [
    "import pandas as pd\n",
    "import numpy as np\n",
    "import quandl\n",
    "import pytz\n",
    "\n",
    "import matplotlib.pyplot as plt"
   ]
  },
  {
   "cell_type": "code",
   "execution_count": 2,
   "metadata": {},
   "outputs": [],
   "source": [
    "Data = quandl.get(\"CHRIS/MCX_GC1\",api_key=\"Di2mkDdqBJbSZiGQxdfQ\")"
   ]
  },
  {
   "cell_type": "code",
   "execution_count": 3,
   "metadata": {},
   "outputs": [
    {
     "data": {
      "text/html": [
       "<div>\n",
       "<style scoped>\n",
       "    .dataframe tbody tr th:only-of-type {\n",
       "        vertical-align: middle;\n",
       "    }\n",
       "\n",
       "    .dataframe tbody tr th {\n",
       "        vertical-align: top;\n",
       "    }\n",
       "\n",
       "    .dataframe thead th {\n",
       "        text-align: right;\n",
       "    }\n",
       "</style>\n",
       "<table border=\"1\" class=\"dataframe\">\n",
       "  <thead>\n",
       "    <tr style=\"text-align: right;\">\n",
       "      <th></th>\n",
       "      <th>Open</th>\n",
       "      <th>High</th>\n",
       "      <th>Low</th>\n",
       "      <th>Close</th>\n",
       "      <th>Volume</th>\n",
       "      <th>Open Interest</th>\n",
       "    </tr>\n",
       "    <tr>\n",
       "      <th>Date</th>\n",
       "      <th></th>\n",
       "      <th></th>\n",
       "      <th></th>\n",
       "      <th></th>\n",
       "      <th></th>\n",
       "      <th></th>\n",
       "    </tr>\n",
       "  </thead>\n",
       "  <tbody>\n",
       "    <tr>\n",
       "      <th>2013-12-04</th>\n",
       "      <td>30368.0</td>\n",
       "      <td>30368.0</td>\n",
       "      <td>30368.0</td>\n",
       "      <td>30368.0</td>\n",
       "      <td>307.0</td>\n",
       "      <td>257.0</td>\n",
       "    </tr>\n",
       "    <tr>\n",
       "      <th>2013-12-05</th>\n",
       "      <td>30652.0</td>\n",
       "      <td>30957.0</td>\n",
       "      <td>30074.0</td>\n",
       "      <td>30950.0</td>\n",
       "      <td>260.0</td>\n",
       "      <td>122.0</td>\n",
       "    </tr>\n",
       "    <tr>\n",
       "      <th>2013-12-06</th>\n",
       "      <td>29151.0</td>\n",
       "      <td>29350.0</td>\n",
       "      <td>28720.0</td>\n",
       "      <td>29205.0</td>\n",
       "      <td>22202.0</td>\n",
       "      <td>8851.0</td>\n",
       "    </tr>\n",
       "    <tr>\n",
       "      <th>2013-12-07</th>\n",
       "      <td>29205.0</td>\n",
       "      <td>29205.0</td>\n",
       "      <td>29205.0</td>\n",
       "      <td>29205.0</td>\n",
       "      <td>22202.0</td>\n",
       "      <td>8851.0</td>\n",
       "    </tr>\n",
       "    <tr>\n",
       "      <th>2013-12-09</th>\n",
       "      <td>28921.0</td>\n",
       "      <td>29100.0</td>\n",
       "      <td>28842.0</td>\n",
       "      <td>28954.0</td>\n",
       "      <td>13196.0</td>\n",
       "      <td>9137.0</td>\n",
       "    </tr>\n",
       "  </tbody>\n",
       "</table>\n",
       "</div>"
      ],
      "text/plain": [
       "               Open     High      Low    Close   Volume  Open Interest\n",
       "Date                                                                  \n",
       "2013-12-04  30368.0  30368.0  30368.0  30368.0    307.0          257.0\n",
       "2013-12-05  30652.0  30957.0  30074.0  30950.0    260.0          122.0\n",
       "2013-12-06  29151.0  29350.0  28720.0  29205.0  22202.0         8851.0\n",
       "2013-12-07  29205.0  29205.0  29205.0  29205.0  22202.0         8851.0\n",
       "2013-12-09  28921.0  29100.0  28842.0  28954.0  13196.0         9137.0"
      ]
     },
     "execution_count": 3,
     "metadata": {},
     "output_type": "execute_result"
    }
   ],
   "source": [
    "Data.head()"
   ]
  },
  {
   "cell_type": "code",
   "execution_count": 4,
   "metadata": {},
   "outputs": [],
   "source": [
    "Data.index = Data.index.tz_localize(\"UTC\")"
   ]
  },
  {
   "cell_type": "code",
   "execution_count": 5,
   "metadata": {},
   "outputs": [
    {
     "data": {
      "text/html": [
       "<div>\n",
       "<style scoped>\n",
       "    .dataframe tbody tr th:only-of-type {\n",
       "        vertical-align: middle;\n",
       "    }\n",
       "\n",
       "    .dataframe tbody tr th {\n",
       "        vertical-align: top;\n",
       "    }\n",
       "\n",
       "    .dataframe thead th {\n",
       "        text-align: right;\n",
       "    }\n",
       "</style>\n",
       "<table border=\"1\" class=\"dataframe\">\n",
       "  <thead>\n",
       "    <tr style=\"text-align: right;\">\n",
       "      <th></th>\n",
       "      <th>Open</th>\n",
       "      <th>High</th>\n",
       "      <th>Low</th>\n",
       "      <th>Close</th>\n",
       "      <th>Volume</th>\n",
       "      <th>Open Interest</th>\n",
       "    </tr>\n",
       "    <tr>\n",
       "      <th>Date</th>\n",
       "      <th></th>\n",
       "      <th></th>\n",
       "      <th></th>\n",
       "      <th></th>\n",
       "      <th></th>\n",
       "      <th></th>\n",
       "    </tr>\n",
       "  </thead>\n",
       "  <tbody>\n",
       "    <tr>\n",
       "      <th>2013-12-04 00:00:00+00:00</th>\n",
       "      <td>30368.0</td>\n",
       "      <td>30368.0</td>\n",
       "      <td>30368.0</td>\n",
       "      <td>30368.0</td>\n",
       "      <td>307.0</td>\n",
       "      <td>257.0</td>\n",
       "    </tr>\n",
       "    <tr>\n",
       "      <th>2013-12-05 00:00:00+00:00</th>\n",
       "      <td>30652.0</td>\n",
       "      <td>30957.0</td>\n",
       "      <td>30074.0</td>\n",
       "      <td>30950.0</td>\n",
       "      <td>260.0</td>\n",
       "      <td>122.0</td>\n",
       "    </tr>\n",
       "    <tr>\n",
       "      <th>2013-12-06 00:00:00+00:00</th>\n",
       "      <td>29151.0</td>\n",
       "      <td>29350.0</td>\n",
       "      <td>28720.0</td>\n",
       "      <td>29205.0</td>\n",
       "      <td>22202.0</td>\n",
       "      <td>8851.0</td>\n",
       "    </tr>\n",
       "    <tr>\n",
       "      <th>2013-12-07 00:00:00+00:00</th>\n",
       "      <td>29205.0</td>\n",
       "      <td>29205.0</td>\n",
       "      <td>29205.0</td>\n",
       "      <td>29205.0</td>\n",
       "      <td>22202.0</td>\n",
       "      <td>8851.0</td>\n",
       "    </tr>\n",
       "    <tr>\n",
       "      <th>2013-12-09 00:00:00+00:00</th>\n",
       "      <td>28921.0</td>\n",
       "      <td>29100.0</td>\n",
       "      <td>28842.0</td>\n",
       "      <td>28954.0</td>\n",
       "      <td>13196.0</td>\n",
       "      <td>9137.0</td>\n",
       "    </tr>\n",
       "  </tbody>\n",
       "</table>\n",
       "</div>"
      ],
      "text/plain": [
       "                              Open     High      Low    Close   Volume  \\\n",
       "Date                                                                     \n",
       "2013-12-04 00:00:00+00:00  30368.0  30368.0  30368.0  30368.0    307.0   \n",
       "2013-12-05 00:00:00+00:00  30652.0  30957.0  30074.0  30950.0    260.0   \n",
       "2013-12-06 00:00:00+00:00  29151.0  29350.0  28720.0  29205.0  22202.0   \n",
       "2013-12-07 00:00:00+00:00  29205.0  29205.0  29205.0  29205.0  22202.0   \n",
       "2013-12-09 00:00:00+00:00  28921.0  29100.0  28842.0  28954.0  13196.0   \n",
       "\n",
       "                           Open Interest  \n",
       "Date                                      \n",
       "2013-12-04 00:00:00+00:00          257.0  \n",
       "2013-12-05 00:00:00+00:00          122.0  \n",
       "2013-12-06 00:00:00+00:00         8851.0  \n",
       "2013-12-07 00:00:00+00:00         8851.0  \n",
       "2013-12-09 00:00:00+00:00         9137.0  "
      ]
     },
     "execution_count": 5,
     "metadata": {},
     "output_type": "execute_result"
    }
   ],
   "source": [
    "Data.head()"
   ]
  },
  {
   "cell_type": "code",
   "execution_count": 6,
   "metadata": {},
   "outputs": [],
   "source": [
    "Data = Data.iloc[::-1]"
   ]
  },
  {
   "cell_type": "code",
   "execution_count": 7,
   "metadata": {},
   "outputs": [
    {
     "data": {
      "text/html": [
       "<div>\n",
       "<style scoped>\n",
       "    .dataframe tbody tr th:only-of-type {\n",
       "        vertical-align: middle;\n",
       "    }\n",
       "\n",
       "    .dataframe tbody tr th {\n",
       "        vertical-align: top;\n",
       "    }\n",
       "\n",
       "    .dataframe thead th {\n",
       "        text-align: right;\n",
       "    }\n",
       "</style>\n",
       "<table border=\"1\" class=\"dataframe\">\n",
       "  <thead>\n",
       "    <tr style=\"text-align: right;\">\n",
       "      <th></th>\n",
       "      <th>Open</th>\n",
       "      <th>High</th>\n",
       "      <th>Low</th>\n",
       "      <th>Close</th>\n",
       "      <th>Volume</th>\n",
       "      <th>Open Interest</th>\n",
       "    </tr>\n",
       "    <tr>\n",
       "      <th>Date</th>\n",
       "      <th></th>\n",
       "      <th></th>\n",
       "      <th></th>\n",
       "      <th></th>\n",
       "      <th></th>\n",
       "      <th></th>\n",
       "    </tr>\n",
       "  </thead>\n",
       "  <tbody>\n",
       "    <tr>\n",
       "      <th>2020-04-09 00:00:00+00:00</th>\n",
       "      <td>44838.0</td>\n",
       "      <td>45327.0</td>\n",
       "      <td>44838.0</td>\n",
       "      <td>45294.0</td>\n",
       "      <td>3268.0</td>\n",
       "      <td>17285.0</td>\n",
       "    </tr>\n",
       "    <tr>\n",
       "      <th>2020-04-08 00:00:00+00:00</th>\n",
       "      <td>44777.0</td>\n",
       "      <td>45036.0</td>\n",
       "      <td>44686.0</td>\n",
       "      <td>44941.0</td>\n",
       "      <td>3156.0</td>\n",
       "      <td>17011.0</td>\n",
       "    </tr>\n",
       "    <tr>\n",
       "      <th>2020-04-07 00:00:00+00:00</th>\n",
       "      <td>44000.0</td>\n",
       "      <td>45724.0</td>\n",
       "      <td>44000.0</td>\n",
       "      <td>45081.0</td>\n",
       "      <td>5488.0</td>\n",
       "      <td>17068.0</td>\n",
       "    </tr>\n",
       "    <tr>\n",
       "      <th>2020-04-03 00:00:00+00:00</th>\n",
       "      <td>43500.0</td>\n",
       "      <td>43870.0</td>\n",
       "      <td>43500.0</td>\n",
       "      <td>43722.0</td>\n",
       "      <td>4050.0</td>\n",
       "      <td>16812.0</td>\n",
       "    </tr>\n",
       "    <tr>\n",
       "      <th>2020-04-01 00:00:00+00:00</th>\n",
       "      <td>43261.0</td>\n",
       "      <td>43550.0</td>\n",
       "      <td>43080.0</td>\n",
       "      <td>43357.0</td>\n",
       "      <td>14.0</td>\n",
       "      <td>69.0</td>\n",
       "    </tr>\n",
       "    <tr>\n",
       "      <th>...</th>\n",
       "      <td>...</td>\n",
       "      <td>...</td>\n",
       "      <td>...</td>\n",
       "      <td>...</td>\n",
       "      <td>...</td>\n",
       "      <td>...</td>\n",
       "    </tr>\n",
       "    <tr>\n",
       "      <th>2013-12-09 00:00:00+00:00</th>\n",
       "      <td>28921.0</td>\n",
       "      <td>29100.0</td>\n",
       "      <td>28842.0</td>\n",
       "      <td>28954.0</td>\n",
       "      <td>13196.0</td>\n",
       "      <td>9137.0</td>\n",
       "    </tr>\n",
       "    <tr>\n",
       "      <th>2013-12-07 00:00:00+00:00</th>\n",
       "      <td>29205.0</td>\n",
       "      <td>29205.0</td>\n",
       "      <td>29205.0</td>\n",
       "      <td>29205.0</td>\n",
       "      <td>22202.0</td>\n",
       "      <td>8851.0</td>\n",
       "    </tr>\n",
       "    <tr>\n",
       "      <th>2013-12-06 00:00:00+00:00</th>\n",
       "      <td>29151.0</td>\n",
       "      <td>29350.0</td>\n",
       "      <td>28720.0</td>\n",
       "      <td>29205.0</td>\n",
       "      <td>22202.0</td>\n",
       "      <td>8851.0</td>\n",
       "    </tr>\n",
       "    <tr>\n",
       "      <th>2013-12-05 00:00:00+00:00</th>\n",
       "      <td>30652.0</td>\n",
       "      <td>30957.0</td>\n",
       "      <td>30074.0</td>\n",
       "      <td>30950.0</td>\n",
       "      <td>260.0</td>\n",
       "      <td>122.0</td>\n",
       "    </tr>\n",
       "    <tr>\n",
       "      <th>2013-12-04 00:00:00+00:00</th>\n",
       "      <td>30368.0</td>\n",
       "      <td>30368.0</td>\n",
       "      <td>30368.0</td>\n",
       "      <td>30368.0</td>\n",
       "      <td>307.0</td>\n",
       "      <td>257.0</td>\n",
       "    </tr>\n",
       "  </tbody>\n",
       "</table>\n",
       "<p>1546 rows × 6 columns</p>\n",
       "</div>"
      ],
      "text/plain": [
       "                              Open     High      Low    Close   Volume  \\\n",
       "Date                                                                     \n",
       "2020-04-09 00:00:00+00:00  44838.0  45327.0  44838.0  45294.0   3268.0   \n",
       "2020-04-08 00:00:00+00:00  44777.0  45036.0  44686.0  44941.0   3156.0   \n",
       "2020-04-07 00:00:00+00:00  44000.0  45724.0  44000.0  45081.0   5488.0   \n",
       "2020-04-03 00:00:00+00:00  43500.0  43870.0  43500.0  43722.0   4050.0   \n",
       "2020-04-01 00:00:00+00:00  43261.0  43550.0  43080.0  43357.0     14.0   \n",
       "...                            ...      ...      ...      ...      ...   \n",
       "2013-12-09 00:00:00+00:00  28921.0  29100.0  28842.0  28954.0  13196.0   \n",
       "2013-12-07 00:00:00+00:00  29205.0  29205.0  29205.0  29205.0  22202.0   \n",
       "2013-12-06 00:00:00+00:00  29151.0  29350.0  28720.0  29205.0  22202.0   \n",
       "2013-12-05 00:00:00+00:00  30652.0  30957.0  30074.0  30950.0    260.0   \n",
       "2013-12-04 00:00:00+00:00  30368.0  30368.0  30368.0  30368.0    307.0   \n",
       "\n",
       "                           Open Interest  \n",
       "Date                                      \n",
       "2020-04-09 00:00:00+00:00        17285.0  \n",
       "2020-04-08 00:00:00+00:00        17011.0  \n",
       "2020-04-07 00:00:00+00:00        17068.0  \n",
       "2020-04-03 00:00:00+00:00        16812.0  \n",
       "2020-04-01 00:00:00+00:00           69.0  \n",
       "...                                  ...  \n",
       "2013-12-09 00:00:00+00:00         9137.0  \n",
       "2013-12-07 00:00:00+00:00         8851.0  \n",
       "2013-12-06 00:00:00+00:00         8851.0  \n",
       "2013-12-05 00:00:00+00:00          122.0  \n",
       "2013-12-04 00:00:00+00:00          257.0  \n",
       "\n",
       "[1546 rows x 6 columns]"
      ]
     },
     "execution_count": 7,
     "metadata": {},
     "output_type": "execute_result"
    }
   ],
   "source": [
    "Data"
   ]
  },
  {
   "cell_type": "code",
   "execution_count": 8,
   "metadata": {},
   "outputs": [
    {
     "data": {
      "text/html": [
       "<div>\n",
       "<style scoped>\n",
       "    .dataframe tbody tr th:only-of-type {\n",
       "        vertical-align: middle;\n",
       "    }\n",
       "\n",
       "    .dataframe tbody tr th {\n",
       "        vertical-align: top;\n",
       "    }\n",
       "\n",
       "    .dataframe thead th {\n",
       "        text-align: right;\n",
       "    }\n",
       "</style>\n",
       "<table border=\"1\" class=\"dataframe\">\n",
       "  <thead>\n",
       "    <tr style=\"text-align: right;\">\n",
       "      <th></th>\n",
       "      <th>Open</th>\n",
       "      <th>High</th>\n",
       "      <th>Low</th>\n",
       "      <th>Close</th>\n",
       "      <th>Volume</th>\n",
       "      <th>Open Interest</th>\n",
       "    </tr>\n",
       "    <tr>\n",
       "      <th>Date</th>\n",
       "      <th></th>\n",
       "      <th></th>\n",
       "      <th></th>\n",
       "      <th></th>\n",
       "      <th></th>\n",
       "      <th></th>\n",
       "    </tr>\n",
       "  </thead>\n",
       "  <tbody>\n",
       "    <tr>\n",
       "      <th>2020-04-09 00:00:00+00:00</th>\n",
       "      <td>44838.0</td>\n",
       "      <td>45327.0</td>\n",
       "      <td>44838.0</td>\n",
       "      <td>45294.0</td>\n",
       "      <td>3268.0</td>\n",
       "      <td>17285.0</td>\n",
       "    </tr>\n",
       "    <tr>\n",
       "      <th>2020-04-08 00:00:00+00:00</th>\n",
       "      <td>44777.0</td>\n",
       "      <td>45036.0</td>\n",
       "      <td>44686.0</td>\n",
       "      <td>44941.0</td>\n",
       "      <td>3156.0</td>\n",
       "      <td>17011.0</td>\n",
       "    </tr>\n",
       "    <tr>\n",
       "      <th>2020-04-07 00:00:00+00:00</th>\n",
       "      <td>44000.0</td>\n",
       "      <td>45724.0</td>\n",
       "      <td>44000.0</td>\n",
       "      <td>45081.0</td>\n",
       "      <td>5488.0</td>\n",
       "      <td>17068.0</td>\n",
       "    </tr>\n",
       "    <tr>\n",
       "      <th>2020-04-03 00:00:00+00:00</th>\n",
       "      <td>43500.0</td>\n",
       "      <td>43870.0</td>\n",
       "      <td>43500.0</td>\n",
       "      <td>43722.0</td>\n",
       "      <td>4050.0</td>\n",
       "      <td>16812.0</td>\n",
       "    </tr>\n",
       "    <tr>\n",
       "      <th>2020-04-01 00:00:00+00:00</th>\n",
       "      <td>43261.0</td>\n",
       "      <td>43550.0</td>\n",
       "      <td>43080.0</td>\n",
       "      <td>43357.0</td>\n",
       "      <td>14.0</td>\n",
       "      <td>69.0</td>\n",
       "    </tr>\n",
       "  </tbody>\n",
       "</table>\n",
       "</div>"
      ],
      "text/plain": [
       "                              Open     High      Low    Close  Volume  \\\n",
       "Date                                                                    \n",
       "2020-04-09 00:00:00+00:00  44838.0  45327.0  44838.0  45294.0  3268.0   \n",
       "2020-04-08 00:00:00+00:00  44777.0  45036.0  44686.0  44941.0  3156.0   \n",
       "2020-04-07 00:00:00+00:00  44000.0  45724.0  44000.0  45081.0  5488.0   \n",
       "2020-04-03 00:00:00+00:00  43500.0  43870.0  43500.0  43722.0  4050.0   \n",
       "2020-04-01 00:00:00+00:00  43261.0  43550.0  43080.0  43357.0    14.0   \n",
       "\n",
       "                           Open Interest  \n",
       "Date                                      \n",
       "2020-04-09 00:00:00+00:00        17285.0  \n",
       "2020-04-08 00:00:00+00:00        17011.0  \n",
       "2020-04-07 00:00:00+00:00        17068.0  \n",
       "2020-04-03 00:00:00+00:00        16812.0  \n",
       "2020-04-01 00:00:00+00:00           69.0  "
      ]
     },
     "execution_count": 8,
     "metadata": {},
     "output_type": "execute_result"
    }
   ],
   "source": [
    "Data.head()"
   ]
  },
  {
   "cell_type": "code",
   "execution_count": 9,
   "metadata": {},
   "outputs": [],
   "source": [
    "sma = 20\n",
    "lma = 50"
   ]
  },
  {
   "cell_type": "code",
   "execution_count": 10,
   "metadata": {},
   "outputs": [],
   "source": [
    "Data['SMA'] = Data['Close'].rolling(sma).mean()"
   ]
  },
  {
   "cell_type": "code",
   "execution_count": 11,
   "metadata": {},
   "outputs": [],
   "source": [
    "Data['LMA'] = Data['Close'].rolling(lma).mean()"
   ]
  },
  {
   "cell_type": "code",
   "execution_count": 12,
   "metadata": {},
   "outputs": [],
   "source": [
    "Data['SMA2'] = Data['Close'].shift(1).rolling(sma).mean()"
   ]
  },
  {
   "cell_type": "code",
   "execution_count": 13,
   "metadata": {},
   "outputs": [],
   "source": [
    "Data['LMA2'] = Data['Close'].shift(1).rolling(lma).mean()"
   ]
  },
  {
   "cell_type": "code",
   "execution_count": 14,
   "metadata": {},
   "outputs": [
    {
     "data": {
      "text/html": [
       "<div>\n",
       "<style scoped>\n",
       "    .dataframe tbody tr th:only-of-type {\n",
       "        vertical-align: middle;\n",
       "    }\n",
       "\n",
       "    .dataframe tbody tr th {\n",
       "        vertical-align: top;\n",
       "    }\n",
       "\n",
       "    .dataframe thead th {\n",
       "        text-align: right;\n",
       "    }\n",
       "</style>\n",
       "<table border=\"1\" class=\"dataframe\">\n",
       "  <thead>\n",
       "    <tr style=\"text-align: right;\">\n",
       "      <th></th>\n",
       "      <th>Open</th>\n",
       "      <th>High</th>\n",
       "      <th>Low</th>\n",
       "      <th>Close</th>\n",
       "      <th>Volume</th>\n",
       "      <th>Open Interest</th>\n",
       "      <th>SMA</th>\n",
       "      <th>LMA</th>\n",
       "      <th>SMA2</th>\n",
       "      <th>LMA2</th>\n",
       "    </tr>\n",
       "    <tr>\n",
       "      <th>Date</th>\n",
       "      <th></th>\n",
       "      <th></th>\n",
       "      <th></th>\n",
       "      <th></th>\n",
       "      <th></th>\n",
       "      <th></th>\n",
       "      <th></th>\n",
       "      <th></th>\n",
       "      <th></th>\n",
       "      <th></th>\n",
       "    </tr>\n",
       "  </thead>\n",
       "  <tbody>\n",
       "    <tr>\n",
       "      <th>2013-12-09 00:00:00+00:00</th>\n",
       "      <td>28921.0</td>\n",
       "      <td>29100.0</td>\n",
       "      <td>28842.0</td>\n",
       "      <td>28954.0</td>\n",
       "      <td>13196.0</td>\n",
       "      <td>9137.0</td>\n",
       "      <td>28812.20</td>\n",
       "      <td>29017.94</td>\n",
       "      <td>28806.20</td>\n",
       "      <td>29021.50</td>\n",
       "    </tr>\n",
       "    <tr>\n",
       "      <th>2013-12-07 00:00:00+00:00</th>\n",
       "      <td>29205.0</td>\n",
       "      <td>29205.0</td>\n",
       "      <td>29205.0</td>\n",
       "      <td>29205.0</td>\n",
       "      <td>22202.0</td>\n",
       "      <td>8851.0</td>\n",
       "      <td>28823.75</td>\n",
       "      <td>29019.96</td>\n",
       "      <td>28812.20</td>\n",
       "      <td>29017.94</td>\n",
       "    </tr>\n",
       "    <tr>\n",
       "      <th>2013-12-06 00:00:00+00:00</th>\n",
       "      <td>29151.0</td>\n",
       "      <td>29350.0</td>\n",
       "      <td>28720.0</td>\n",
       "      <td>29205.0</td>\n",
       "      <td>22202.0</td>\n",
       "      <td>8851.0</td>\n",
       "      <td>28826.05</td>\n",
       "      <td>29025.36</td>\n",
       "      <td>28823.75</td>\n",
       "      <td>29019.96</td>\n",
       "    </tr>\n",
       "    <tr>\n",
       "      <th>2013-12-05 00:00:00+00:00</th>\n",
       "      <td>30652.0</td>\n",
       "      <td>30957.0</td>\n",
       "      <td>30074.0</td>\n",
       "      <td>30950.0</td>\n",
       "      <td>260.0</td>\n",
       "      <td>122.0</td>\n",
       "      <td>28952.65</td>\n",
       "      <td>29069.28</td>\n",
       "      <td>28826.05</td>\n",
       "      <td>29025.36</td>\n",
       "    </tr>\n",
       "    <tr>\n",
       "      <th>2013-12-04 00:00:00+00:00</th>\n",
       "      <td>30368.0</td>\n",
       "      <td>30368.0</td>\n",
       "      <td>30368.0</td>\n",
       "      <td>30368.0</td>\n",
       "      <td>307.0</td>\n",
       "      <td>257.0</td>\n",
       "      <td>29053.10</td>\n",
       "      <td>29103.64</td>\n",
       "      <td>28952.65</td>\n",
       "      <td>29069.28</td>\n",
       "    </tr>\n",
       "  </tbody>\n",
       "</table>\n",
       "</div>"
      ],
      "text/plain": [
       "                              Open     High      Low    Close   Volume  \\\n",
       "Date                                                                     \n",
       "2013-12-09 00:00:00+00:00  28921.0  29100.0  28842.0  28954.0  13196.0   \n",
       "2013-12-07 00:00:00+00:00  29205.0  29205.0  29205.0  29205.0  22202.0   \n",
       "2013-12-06 00:00:00+00:00  29151.0  29350.0  28720.0  29205.0  22202.0   \n",
       "2013-12-05 00:00:00+00:00  30652.0  30957.0  30074.0  30950.0    260.0   \n",
       "2013-12-04 00:00:00+00:00  30368.0  30368.0  30368.0  30368.0    307.0   \n",
       "\n",
       "                           Open Interest       SMA       LMA      SMA2  \\\n",
       "Date                                                                     \n",
       "2013-12-09 00:00:00+00:00         9137.0  28812.20  29017.94  28806.20   \n",
       "2013-12-07 00:00:00+00:00         8851.0  28823.75  29019.96  28812.20   \n",
       "2013-12-06 00:00:00+00:00         8851.0  28826.05  29025.36  28823.75   \n",
       "2013-12-05 00:00:00+00:00          122.0  28952.65  29069.28  28826.05   \n",
       "2013-12-04 00:00:00+00:00          257.0  29053.10  29103.64  28952.65   \n",
       "\n",
       "                               LMA2  \n",
       "Date                                 \n",
       "2013-12-09 00:00:00+00:00  29021.50  \n",
       "2013-12-07 00:00:00+00:00  29017.94  \n",
       "2013-12-06 00:00:00+00:00  29019.96  \n",
       "2013-12-05 00:00:00+00:00  29025.36  \n",
       "2013-12-04 00:00:00+00:00  29069.28  "
      ]
     },
     "execution_count": 14,
     "metadata": {},
     "output_type": "execute_result"
    }
   ],
   "source": [
    "Data.tail()"
   ]
  },
  {
   "cell_type": "code",
   "execution_count": 15,
   "metadata": {},
   "outputs": [],
   "source": [
    "Data['Buy'] = Data.apply(lambda x : x['Close'] if x['SMA'] > x['LMA'] and x['SMA2'] < x['LMA2'] else 0, axis = 1)"
   ]
  },
  {
   "cell_type": "code",
   "execution_count": 16,
   "metadata": {},
   "outputs": [],
   "source": [
    "Data['Sell'] = Data.apply(lambda y : -y['Close'] if y['SMA'] < y['LMA'] and y['SMA2'] > y['LMA2'] else 0,  axis =1)"
   ]
  },
  {
   "cell_type": "code",
   "execution_count": 17,
   "metadata": {},
   "outputs": [
    {
     "data": {
      "text/html": [
       "<div>\n",
       "<style scoped>\n",
       "    .dataframe tbody tr th:only-of-type {\n",
       "        vertical-align: middle;\n",
       "    }\n",
       "\n",
       "    .dataframe tbody tr th {\n",
       "        vertical-align: top;\n",
       "    }\n",
       "\n",
       "    .dataframe thead th {\n",
       "        text-align: right;\n",
       "    }\n",
       "</style>\n",
       "<table border=\"1\" class=\"dataframe\">\n",
       "  <thead>\n",
       "    <tr style=\"text-align: right;\">\n",
       "      <th></th>\n",
       "      <th>Open</th>\n",
       "      <th>High</th>\n",
       "      <th>Low</th>\n",
       "      <th>Close</th>\n",
       "      <th>Volume</th>\n",
       "      <th>Open Interest</th>\n",
       "      <th>SMA</th>\n",
       "      <th>LMA</th>\n",
       "      <th>SMA2</th>\n",
       "      <th>LMA2</th>\n",
       "      <th>Buy</th>\n",
       "      <th>Sell</th>\n",
       "    </tr>\n",
       "    <tr>\n",
       "      <th>Date</th>\n",
       "      <th></th>\n",
       "      <th></th>\n",
       "      <th></th>\n",
       "      <th></th>\n",
       "      <th></th>\n",
       "      <th></th>\n",
       "      <th></th>\n",
       "      <th></th>\n",
       "      <th></th>\n",
       "      <th></th>\n",
       "      <th></th>\n",
       "      <th></th>\n",
       "    </tr>\n",
       "  </thead>\n",
       "  <tbody>\n",
       "    <tr>\n",
       "      <th>2013-12-09 00:00:00+00:00</th>\n",
       "      <td>28921.0</td>\n",
       "      <td>29100.0</td>\n",
       "      <td>28842.0</td>\n",
       "      <td>28954.0</td>\n",
       "      <td>13196.0</td>\n",
       "      <td>9137.0</td>\n",
       "      <td>28812.20</td>\n",
       "      <td>29017.94</td>\n",
       "      <td>28806.20</td>\n",
       "      <td>29021.50</td>\n",
       "      <td>0.0</td>\n",
       "      <td>0.0</td>\n",
       "    </tr>\n",
       "    <tr>\n",
       "      <th>2013-12-07 00:00:00+00:00</th>\n",
       "      <td>29205.0</td>\n",
       "      <td>29205.0</td>\n",
       "      <td>29205.0</td>\n",
       "      <td>29205.0</td>\n",
       "      <td>22202.0</td>\n",
       "      <td>8851.0</td>\n",
       "      <td>28823.75</td>\n",
       "      <td>29019.96</td>\n",
       "      <td>28812.20</td>\n",
       "      <td>29017.94</td>\n",
       "      <td>0.0</td>\n",
       "      <td>0.0</td>\n",
       "    </tr>\n",
       "    <tr>\n",
       "      <th>2013-12-06 00:00:00+00:00</th>\n",
       "      <td>29151.0</td>\n",
       "      <td>29350.0</td>\n",
       "      <td>28720.0</td>\n",
       "      <td>29205.0</td>\n",
       "      <td>22202.0</td>\n",
       "      <td>8851.0</td>\n",
       "      <td>28826.05</td>\n",
       "      <td>29025.36</td>\n",
       "      <td>28823.75</td>\n",
       "      <td>29019.96</td>\n",
       "      <td>0.0</td>\n",
       "      <td>0.0</td>\n",
       "    </tr>\n",
       "    <tr>\n",
       "      <th>2013-12-05 00:00:00+00:00</th>\n",
       "      <td>30652.0</td>\n",
       "      <td>30957.0</td>\n",
       "      <td>30074.0</td>\n",
       "      <td>30950.0</td>\n",
       "      <td>260.0</td>\n",
       "      <td>122.0</td>\n",
       "      <td>28952.65</td>\n",
       "      <td>29069.28</td>\n",
       "      <td>28826.05</td>\n",
       "      <td>29025.36</td>\n",
       "      <td>0.0</td>\n",
       "      <td>0.0</td>\n",
       "    </tr>\n",
       "    <tr>\n",
       "      <th>2013-12-04 00:00:00+00:00</th>\n",
       "      <td>30368.0</td>\n",
       "      <td>30368.0</td>\n",
       "      <td>30368.0</td>\n",
       "      <td>30368.0</td>\n",
       "      <td>307.0</td>\n",
       "      <td>257.0</td>\n",
       "      <td>29053.10</td>\n",
       "      <td>29103.64</td>\n",
       "      <td>28952.65</td>\n",
       "      <td>29069.28</td>\n",
       "      <td>0.0</td>\n",
       "      <td>0.0</td>\n",
       "    </tr>\n",
       "  </tbody>\n",
       "</table>\n",
       "</div>"
      ],
      "text/plain": [
       "                              Open     High      Low    Close   Volume  \\\n",
       "Date                                                                     \n",
       "2013-12-09 00:00:00+00:00  28921.0  29100.0  28842.0  28954.0  13196.0   \n",
       "2013-12-07 00:00:00+00:00  29205.0  29205.0  29205.0  29205.0  22202.0   \n",
       "2013-12-06 00:00:00+00:00  29151.0  29350.0  28720.0  29205.0  22202.0   \n",
       "2013-12-05 00:00:00+00:00  30652.0  30957.0  30074.0  30950.0    260.0   \n",
       "2013-12-04 00:00:00+00:00  30368.0  30368.0  30368.0  30368.0    307.0   \n",
       "\n",
       "                           Open Interest       SMA       LMA      SMA2  \\\n",
       "Date                                                                     \n",
       "2013-12-09 00:00:00+00:00         9137.0  28812.20  29017.94  28806.20   \n",
       "2013-12-07 00:00:00+00:00         8851.0  28823.75  29019.96  28812.20   \n",
       "2013-12-06 00:00:00+00:00         8851.0  28826.05  29025.36  28823.75   \n",
       "2013-12-05 00:00:00+00:00          122.0  28952.65  29069.28  28826.05   \n",
       "2013-12-04 00:00:00+00:00          257.0  29053.10  29103.64  28952.65   \n",
       "\n",
       "                               LMA2  Buy  Sell  \n",
       "Date                                            \n",
       "2013-12-09 00:00:00+00:00  29021.50  0.0   0.0  \n",
       "2013-12-07 00:00:00+00:00  29017.94  0.0   0.0  \n",
       "2013-12-06 00:00:00+00:00  29019.96  0.0   0.0  \n",
       "2013-12-05 00:00:00+00:00  29025.36  0.0   0.0  \n",
       "2013-12-04 00:00:00+00:00  29069.28  0.0   0.0  "
      ]
     },
     "execution_count": 17,
     "metadata": {},
     "output_type": "execute_result"
    }
   ],
   "source": [
    "Data.tail()"
   ]
  },
  {
   "cell_type": "code",
   "execution_count": 18,
   "metadata": {},
   "outputs": [
    {
     "data": {
      "text/plain": [
       "[<matplotlib.lines.Line2D at 0x27d5760ca08>]"
      ]
     },
     "execution_count": 18,
     "metadata": {},
     "output_type": "execute_result"
    },
    {
     "data": {
      "image/png": "[encoded data removed]",
      "text/plain": [
       "<Figure size 432x288 with 1 Axes>"
      ]
     },
     "metadata": {
      "needs_background": "light"
     },
     "output_type": "display_data"
    }
   ],
   "source": [
    "plt.plot(Data['SMA'])"
   ]
  },
  {
   "cell_type": "code",
   "execution_count": 19,
   "metadata": {},
   "outputs": [
    {
     "data": {
      "text/plain": [
       "[<matplotlib.lines.Line2D at 0x27d5829b7c8>]"
      ]
     },
     "execution_count": 19,
     "metadata": {},
     "output_type": "execute_result"
    },
    {
     "data": {
      "image/png": "[encoded data removed]",
      "text/plain": [
       "<Figure size 432x288 with 1 Axes>"
      ]
     },
     "metadata": {
      "needs_background": "light"
     },
     "output_type": "display_data"
    }
   ],
   "source": [
    "plt.plot(Data['LMA'])"
   ]
  },
  {
   "cell_type": "code",
   "execution_count": 20,
   "metadata": {},
   "outputs": [
    {
     "data": {
      "text/plain": [
       "[<matplotlib.lines.Line2D at 0x27d58306248>]"
      ]
     },
     "execution_count": 20,
     "metadata": {},
     "output_type": "execute_result"
    },
    {
     "data": {
      "image/png": "[encoded data removed]",
      "text/plain": [
       "<Figure size 432x288 with 1 Axes>"
      ]
     },
     "metadata": {
      "needs_background": "light"
     },
     "output_type": "display_data"
    }
   ],
   "source": [
    "plt.plot(Data['SMA2'])"
   ]
  },
  {
   "cell_type": "code",
   "execution_count": 21,
   "metadata": {},
   "outputs": [
    {
     "data": {
      "text/plain": [
       "[<matplotlib.lines.Line2D at 0x27d583731c8>]"
      ]
     },
     "execution_count": 21,
     "metadata": {},
     "output_type": "execute_result"
    },
    {
     "data": {
      "image/png": "[encoded data removed]",
      "text/plain": [
       "<Figure size 432x288 with 1 Axes>"
      ]
     },
     "metadata": {
      "needs_background": "light"
     },
     "output_type": "display_data"
    }
   ],
   "source": [
    "plt.plot(Data['LMA2'])"
   ]
  },
  {
   "cell_type": "code",
   "execution_count": 22,
   "metadata": {},
   "outputs": [
    {
     "data": {
      "text/plain": [
       "[<matplotlib.lines.Line2D at 0x27d58403b48>]"
      ]
     },
     "execution_count": 22,
     "metadata": {},
     "output_type": "execute_result"
    },
    {
     "data": {
      "image/png": "[encoded data removed]",
      "text/plain": [
       "<Figure size 432x288 with 1 Axes>"
      ]
     },
     "metadata": {
      "needs_background": "light"
     },
     "output_type": "display_data"
    }
   ],
   "source": [
    "plt.plot(Data['SMA'])\n",
    "plt.plot(Data['LMA'])\n",
    "plt.plot(Data['SMA2'])\n",
    "plt.plot(Data['LMA2'])"
   ]
  },
  {
   "cell_type": "code",
   "execution_count": null,
   "metadata": {},
   "outputs": [],
   "source": [
    "Data.to_csv(r\"C:\\Users\\Evian Zhou\\Documents\\Python\\SMALMA_CSV.csv\")"
   ]
  },
  {
   "cell_type": "code",
   "execution_count": null,
   "metadata": {},
   "outputs": [],
   "source": []
  }
 ],
 "metadata": {
  "kernelspec": {
   "display_name": "Python 3",
   "language": "python",
   "name": "python3"
  },
  "language_info": {
   "codemirror_mode": {
    "name": "ipython",
    "version": 3
   },
   "file_extension": ".py",
   "mimetype": "text/x-python",
   "name": "python",
   "nbconvert_exporter": "python",
   "pygments_lexer": "ipython3",
   "version": "3.7.6"
  }
 },
 "nbformat": 4,
 "nbformat_minor": 4
}
