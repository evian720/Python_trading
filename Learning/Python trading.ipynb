{
 "cells": [
  {
   "cell_type": "code",
   "execution_count": 1,
   "metadata": {},
   "outputs": [],
   "source": [
    "import pandas as pd\n",
    "import numpy as np\n",
    "import quandl"
   ]
  },
  {
   "cell_type": "code",
   "execution_count": 7,
   "metadata": {},
   "outputs": [],
   "source": [
    "gold_data = quandl.get(\"CHRIS/MCX_GC1\",api_key=\"Di2mkDdqBJbSZiGQxdfQ\")"
   ]
  },
  {
   "cell_type": "code",
   "execution_count": 9,
   "metadata": {},
   "outputs": [],
   "source": [
    "gold_data.to_csv(r\"C:\\Users\\Evian Zhou\\Documents\\Python\\gold_data.csv\")"
   ]
  },
  {
   "cell_type": "code",
   "execution_count": 11,
   "metadata": {},
   "outputs": [],
   "source": [
    "imported_data = pd.read_csv(r\"C:\\Users\\Evian Zhou\\Documents\\Python\\gold_data.csv\")"
   ]
  },
  {
   "cell_type": "code",
   "execution_count": 13,
   "metadata": {},
   "outputs": [
    {
     "data": {
      "text/html": [
       "<div>\n",
       "<style scoped>\n",
       "    .dataframe tbody tr th:only-of-type {\n",
       "        vertical-align: middle;\n",
       "    }\n",
       "\n",
       "    .dataframe tbody tr th {\n",
       "        vertical-align: top;\n",
       "    }\n",
       "\n",
       "    .dataframe thead th {\n",
       "        text-align: right;\n",
       "    }\n",
       "</style>\n",
       "<table border=\"1\" class=\"dataframe\">\n",
       "  <thead>\n",
       "    <tr style=\"text-align: right;\">\n",
       "      <th></th>\n",
       "      <th>Date</th>\n",
       "      <th>Open</th>\n",
       "      <th>High</th>\n",
       "      <th>Low</th>\n",
       "      <th>Close</th>\n",
       "      <th>Volume</th>\n",
       "      <th>Open Interest</th>\n",
       "    </tr>\n",
       "  </thead>\n",
       "  <tbody>\n",
       "    <tr>\n",
       "      <th>0</th>\n",
       "      <td>2013-12-04</td>\n",
       "      <td>30368.0</td>\n",
       "      <td>30368.0</td>\n",
       "      <td>30368.0</td>\n",
       "      <td>30368.0</td>\n",
       "      <td>307.0</td>\n",
       "      <td>257.0</td>\n",
       "    </tr>\n",
       "    <tr>\n",
       "      <th>1</th>\n",
       "      <td>2013-12-05</td>\n",
       "      <td>30652.0</td>\n",
       "      <td>30957.0</td>\n",
       "      <td>30074.0</td>\n",
       "      <td>30950.0</td>\n",
       "      <td>260.0</td>\n",
       "      <td>122.0</td>\n",
       "    </tr>\n",
       "    <tr>\n",
       "      <th>2</th>\n",
       "      <td>2013-12-06</td>\n",
       "      <td>29151.0</td>\n",
       "      <td>29350.0</td>\n",
       "      <td>28720.0</td>\n",
       "      <td>29205.0</td>\n",
       "      <td>22202.0</td>\n",
       "      <td>8851.0</td>\n",
       "    </tr>\n",
       "    <tr>\n",
       "      <th>3</th>\n",
       "      <td>2013-12-07</td>\n",
       "      <td>29205.0</td>\n",
       "      <td>29205.0</td>\n",
       "      <td>29205.0</td>\n",
       "      <td>29205.0</td>\n",
       "      <td>22202.0</td>\n",
       "      <td>8851.0</td>\n",
       "    </tr>\n",
       "    <tr>\n",
       "      <th>4</th>\n",
       "      <td>2013-12-09</td>\n",
       "      <td>28921.0</td>\n",
       "      <td>29100.0</td>\n",
       "      <td>28842.0</td>\n",
       "      <td>28954.0</td>\n",
       "      <td>13196.0</td>\n",
       "      <td>9137.0</td>\n",
       "    </tr>\n",
       "  </tbody>\n",
       "</table>\n",
       "</div>"
      ],
      "text/plain": [
       "         Date     Open     High      Low    Close   Volume  Open Interest\n",
       "0  2013-12-04  30368.0  30368.0  30368.0  30368.0    307.0          257.0\n",
       "1  2013-12-05  30652.0  30957.0  30074.0  30950.0    260.0          122.0\n",
       "2  2013-12-06  29151.0  29350.0  28720.0  29205.0  22202.0         8851.0\n",
       "3  2013-12-07  29205.0  29205.0  29205.0  29205.0  22202.0         8851.0\n",
       "4  2013-12-09  28921.0  29100.0  28842.0  28954.0  13196.0         9137.0"
      ]
     },
     "execution_count": 13,
     "metadata": {},
     "output_type": "execute_result"
    }
   ],
   "source": [
    "imported_data.head()"
   ]
  },
  {
   "cell_type": "code",
   "execution_count": 16,
   "metadata": {},
   "outputs": [],
   "source": [
    "duration = pd.date_range(\"1/1/2012\", periods=1000, freq=\"s\")"
   ]
  },
  {
   "cell_type": "code",
   "execution_count": 17,
   "metadata": {},
   "outputs": [
    {
     "data": {
      "text/plain": [
       "DatetimeIndex(['2012-01-01 00:00:00', '2012-01-01 00:00:01',\n",
       "               '2012-01-01 00:00:02', '2012-01-01 00:00:03',\n",
       "               '2012-01-01 00:00:04', '2012-01-01 00:00:05',\n",
       "               '2012-01-01 00:00:06', '2012-01-01 00:00:07',\n",
       "               '2012-01-01 00:00:08', '2012-01-01 00:00:09',\n",
       "               ...\n",
       "               '2012-01-01 00:16:30', '2012-01-01 00:16:31',\n",
       "               '2012-01-01 00:16:32', '2012-01-01 00:16:33',\n",
       "               '2012-01-01 00:16:34', '2012-01-01 00:16:35',\n",
       "               '2012-01-01 00:16:36', '2012-01-01 00:16:37',\n",
       "               '2012-01-01 00:16:38', '2012-01-01 00:16:39'],\n",
       "              dtype='datetime64[ns]', length=1000, freq='S')"
      ]
     },
     "execution_count": 17,
     "metadata": {},
     "output_type": "execute_result"
    }
   ],
   "source": [
    "duration"
   ]
  },
  {
   "cell_type": "code",
   "execution_count": 23,
   "metadata": {},
   "outputs": [],
   "source": [
    "ts = pd.Series(np.random.randint(0, 5000, len(duration)), index=duration)"
   ]
  },
  {
   "cell_type": "code",
   "execution_count": 24,
   "metadata": {},
   "outputs": [
    {
     "data": {
      "text/plain": [
       "2012-01-01 00:00:00    3516\n",
       "2012-01-01 00:00:01    1605\n",
       "2012-01-01 00:00:02    4962\n",
       "2012-01-01 00:00:03    2691\n",
       "2012-01-01 00:00:04    1461\n",
       "                       ... \n",
       "2012-01-01 00:16:35    3095\n",
       "2012-01-01 00:16:36    3784\n",
       "2012-01-01 00:16:37    1925\n",
       "2012-01-01 00:16:38    4277\n",
       "2012-01-01 00:16:39    3108\n",
       "Freq: S, Length: 1000, dtype: int32"
      ]
     },
     "execution_count": 24,
     "metadata": {},
     "output_type": "execute_result"
    }
   ],
   "source": [
    "ts"
   ]
  },
  {
   "cell_type": "code",
   "execution_count": 30,
   "metadata": {},
   "outputs": [],
   "source": [
    "ts = ts.resample('5Min').sum()"
   ]
  },
  {
   "cell_type": "code",
   "execution_count": 31,
   "metadata": {},
   "outputs": [
    {
     "data": {
      "text/plain": [
       "2012-01-01 00:00:00    720449\n",
       "2012-01-01 00:05:00    742885\n",
       "2012-01-01 00:10:00    770918\n",
       "2012-01-01 00:15:00    260682\n",
       "Freq: 5T, dtype: int32"
      ]
     },
     "execution_count": 31,
     "metadata": {},
     "output_type": "execute_result"
    }
   ],
   "source": [
    "ts.head()"
   ]
  },
  {
   "cell_type": "code",
   "execution_count": 32,
   "metadata": {},
   "outputs": [],
   "source": [
    "converted = ts.asfreq(\"5Min\", method=\"pad\")"
   ]
  },
  {
   "cell_type": "code",
   "execution_count": 34,
   "metadata": {},
   "outputs": [
    {
     "data": {
      "text/plain": [
       "2012-01-01 00:00:00    720449\n",
       "2012-01-01 00:05:00    742885\n",
       "2012-01-01 00:10:00    770918\n",
       "2012-01-01 00:15:00    260682\n",
       "Freq: 5T, dtype: int32"
      ]
     },
     "execution_count": 34,
     "metadata": {},
     "output_type": "execute_result"
    }
   ],
   "source": [
    "converted.head()"
   ]
  },
  {
   "cell_type": "code",
   "execution_count": 37,
   "metadata": {},
   "outputs": [
    {
     "data": {
      "text/plain": [
       "2012-01-01    623733.5\n",
       "Freq: D, dtype: float64"
      ]
     },
     "execution_count": 37,
     "metadata": {},
     "output_type": "execute_result"
    }
   ],
   "source": [
    "ts.resample(\"D\").mean()"
   ]
  },
  {
   "cell_type": "code",
   "execution_count": 38,
   "metadata": {},
   "outputs": [
    {
     "data": {
      "text/plain": [
       "2012-01-01 00:00:00    1842\n",
       "2012-01-01 00:01:00    1729\n",
       "2012-01-01 00:02:00     730\n",
       "2012-01-01 00:03:00    4134\n",
       "2012-01-01 00:04:00     418\n",
       "                       ... \n",
       "2012-01-01 01:35:00    1608\n",
       "2012-01-01 01:36:00    2903\n",
       "2012-01-01 01:37:00    3347\n",
       "2012-01-01 01:38:00    1442\n",
       "2012-01-01 01:39:00    1642\n",
       "Freq: T, Length: 100, dtype: int32"
      ]
     },
     "execution_count": 38,
     "metadata": {},
     "output_type": "execute_result"
    }
   ],
   "source": [
    "duration = pd.date_range('1/1/2012', periods=100, freq='Min')\n",
    "ts = pd.Series(np.random.randint(0, 5000, len(duration)), index=duration)\n",
    "# Type your code below\n",
    "ts"
   ]
  },
  {
   "cell_type": "code",
   "execution_count": 39,
   "metadata": {},
   "outputs": [
    {
     "data": {
      "text/plain": [
       "2012-01-01 00:00:00    1842\n",
       "2012-01-01 00:10:00    4645\n",
       "2012-01-01 00:20:00    2600\n",
       "2012-01-01 00:30:00    1960\n",
       "2012-01-01 00:40:00    1235\n",
       "2012-01-01 00:50:00    2088\n",
       "2012-01-01 01:00:00    4454\n",
       "2012-01-01 01:10:00    1333\n",
       "2012-01-01 01:20:00    1824\n",
       "2012-01-01 01:30:00    4863\n",
       "Freq: 10T, dtype: int32"
      ]
     },
     "execution_count": 39,
     "metadata": {},
     "output_type": "execute_result"
    }
   ],
   "source": [
    "ts.asfreq(\"10Min\", method=\"pad\")"
   ]
  },
  {
   "cell_type": "code",
   "execution_count": 40,
   "metadata": {},
   "outputs": [],
   "source": [
    "duration = pd.date_range('1/1/2012', periods=100, freq='Min')\n",
    "ts = pd.Series(np.random.randint(0, 5000, len(duration)), index=duration)"
   ]
  },
  {
   "cell_type": "code",
   "execution_count": 41,
   "metadata": {},
   "outputs": [
    {
     "data": {
      "text/plain": [
       "2012-01-01 00:00:00    1088\n",
       "2012-01-01 00:01:00    2169\n",
       "2012-01-01 00:02:00    4035\n",
       "2012-01-01 00:03:00    2926\n",
       "2012-01-01 00:04:00    3788\n",
       "                       ... \n",
       "2012-01-01 01:35:00    4094\n",
       "2012-01-01 01:36:00    1433\n",
       "2012-01-01 01:37:00    2779\n",
       "2012-01-01 01:38:00    3674\n",
       "2012-01-01 01:39:00    2010\n",
       "Freq: T, Length: 100, dtype: int32"
      ]
     },
     "execution_count": 41,
     "metadata": {},
     "output_type": "execute_result"
    }
   ],
   "source": [
    "ts"
   ]
  },
  {
   "cell_type": "code",
   "execution_count": 43,
   "metadata": {},
   "outputs": [],
   "source": [
    "ts_UTC = ts.tz_localize('UTC')"
   ]
  },
  {
   "cell_type": "code",
   "execution_count": 44,
   "metadata": {},
   "outputs": [
    {
     "data": {
      "text/plain": [
       "2012-01-01 00:00:00+00:00    1088\n",
       "2012-01-01 00:01:00+00:00    2169\n",
       "2012-01-01 00:02:00+00:00    4035\n",
       "2012-01-01 00:03:00+00:00    2926\n",
       "2012-01-01 00:04:00+00:00    3788\n",
       "                             ... \n",
       "2012-01-01 01:35:00+00:00    4094\n",
       "2012-01-01 01:36:00+00:00    1433\n",
       "2012-01-01 01:37:00+00:00    2779\n",
       "2012-01-01 01:38:00+00:00    3674\n",
       "2012-01-01 01:39:00+00:00    2010\n",
       "Freq: T, Length: 100, dtype: int32"
      ]
     },
     "execution_count": 44,
     "metadata": {},
     "output_type": "execute_result"
    }
   ],
   "source": [
    "ts_UTC"
   ]
  },
  {
   "cell_type": "code",
   "execution_count": 45,
   "metadata": {},
   "outputs": [
    {
     "ename": "ModuleNotFoundError",
     "evalue": "No module named 'quantrautil'",
     "output_type": "error",
     "traceback": [
      "\u001b[1;31m---------------------------------------------------------------------------\u001b[0m",
      "\u001b[1;31mModuleNotFoundError\u001b[0m                       Traceback (most recent call last)",
      "\u001b[1;32m<ipython-input-45-c21b6866cba9>\u001b[0m in \u001b[0;36m<module>\u001b[1;34m\u001b[0m\n\u001b[0;32m      1\u001b[0m \u001b[1;32mfrom\u001b[0m \u001b[0mdatetime\u001b[0m \u001b[1;32mimport\u001b[0m \u001b[0mdatetime\u001b[0m\u001b[1;33m\u001b[0m\u001b[1;33m\u001b[0m\u001b[0m\n\u001b[1;32m----> 2\u001b[1;33m \u001b[1;32mfrom\u001b[0m \u001b[0mquantrautil\u001b[0m \u001b[1;32mimport\u001b[0m \u001b[0mget_quantinsti_api_key\u001b[0m\u001b[1;33m\u001b[0m\u001b[1;33m\u001b[0m\u001b[0m\n\u001b[0m",
      "\u001b[1;31mModuleNotFoundError\u001b[0m: No module named 'quantrautil'"
     ]
    }
   ],
   "source": [
    "from datetime import datetime\n",
    "from quantrautil import get_quantinsti_api_key"
   ]
  },
  {
   "cell_type": "code",
   "execution_count": null,
   "metadata": {},
   "outputs": [],
   "source": []
  }
 ],
 "metadata": {
  "kernelspec": {
   "display_name": "Python 3",
   "language": "python",
   "name": "python3"
  },
  "language_info": {
   "codemirror_mode": {
    "name": "ipython",
    "version": 3
   },
   "file_extension": ".py",
   "mimetype": "text/x-python",
   "name": "python",
   "nbconvert_exporter": "python",
   "pygments_lexer": "ipython3",
   "version": "3.7.6"
  }
 },
 "nbformat": 4,
 "nbformat_minor": 4
}
